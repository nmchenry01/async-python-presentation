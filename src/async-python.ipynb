{
 "metadata": {
  "language_info": {
   "codemirror_mode": {
    "name": "ipython",
    "version": 3
   },
   "file_extension": ".py",
   "mimetype": "text/x-python",
   "name": "python",
   "nbconvert_exporter": "python",
   "pygments_lexer": "ipython3",
   "version": "3.9.1-final"
  },
  "orig_nbformat": 2,
  "kernelspec": {
   "name": "python3",
   "display_name": "Python 3.9.1 64-bit",
   "metadata": {
    "interpreter": {
     "hash": "aee8b7b246df8f9039afb4144a1f6fd8d2ca17a180786b69acc140d282b71a49"
    }
   }
  }
 },
 "nbformat": 4,
 "nbformat_minor": 2,
 "cells": [
  {
   "cell_type": "code",
   "execution_count": null,
   "metadata": {},
   "outputs": [],
   "source": [
    "from pprint import pprint\n",
    "\n",
    "async def something_async():\n",
    "    return \"I'm not really async!\"\n",
    "\n",
    "def main():\n",
    "    coroutine = something_async()\n",
    "    # Log out the coroutine object's location in memory\n",
    "    print(f\"{coroutine}\\n\")\n",
    "    # Log out the properties of the coroutine object\n",
    "    pprint(dir(coroutine))\n",
    "\n",
    "\n",
    "main()"
   ]
  },
  {
   "cell_type": "code",
   "execution_count": null,
   "metadata": {},
   "outputs": [],
   "source": [
    "import asyncio\n",
    "\n",
    "async def something_async() -> str:\n",
    "    # Wait 3 seconds\n",
    "    await asyncio.sleep(3)\n",
    "\n",
    "    return \"I'm async (sortof) now!\"\n",
    "\n",
    "def main():\n",
    "    result = something_async()\n",
    "\n",
    "    print(result)\n",
    "\n",
    "main()"
   ]
  },
  {
   "cell_type": "code",
   "execution_count": null,
   "metadata": {},
   "outputs": [],
   "source": [
    "import asyncio\n",
    "\n",
    "async def something_async() -> str:\n",
    "    # Wait 3 seconds\n",
    "    await asyncio.sleep(3)\n",
    "\n",
    "    return \"Now we're cooking with fire!\"\n",
    "\n",
    "async def main():\n",
    "    result = await something_async()\n",
    "    \n",
    "    print(result)\n",
    "\n",
    "await main()"
   ]
  },
  {
   "cell_type": "code",
   "execution_count": null,
   "metadata": {},
   "outputs": [],
   "source": [
    "import asyncio\n",
    "import time\n",
    "\n",
    "async def me_first() -> str:\n",
    "    await asyncio.sleep(1)\n",
    "\n",
    "    return \"I'm first!\"\n",
    "\n",
    "async def me_second() -> str:\n",
    "    await asyncio.sleep(1)\n",
    "\n",
    "    return \"Then me!\"\n",
    "\n",
    "async def me_third() -> str:\n",
    "    await asyncio.sleep(1)\n",
    "\n",
    "    return \"And finally me!\"\n",
    "\n",
    "async def main():\n",
    "    start = time.perf_counter()\n",
    "\n",
    "    first_result = await me_first()\n",
    "    second_result = await me_second()\n",
    "    third_result = await me_third()\n",
    "\n",
    "    end = time.perf_counter()\n",
    "\n",
    "    print(f\"It took {end - start} seconds to complete all operations\\n\")\n",
    "\n",
    "    print(first_result)\n",
    "    print(second_result)\n",
    "    print(third_result)\n",
    "\n",
    "\n",
    "await main()"
   ]
  },
  {
   "cell_type": "code",
   "execution_count": 2,
   "metadata": {},
   "outputs": [
    {
     "output_type": "stream",
     "name": "stdout",
     "text": [
      "It took 1.0038806679999972 seconds to complete all operations\n\n[\"I'm first!\", 'Then me!', 'And finally me!']\n"
     ]
    }
   ],
   "source": [
    "import asyncio\n",
    "import time\n",
    "\n",
    "async def me_first() -> str:\n",
    "    await asyncio.sleep(1)\n",
    "\n",
    "    return \"I'm first!\"\n",
    "\n",
    "async def me_second() -> str:\n",
    "    await asyncio.sleep(1)\n",
    "\n",
    "    return \"Then me!\"\n",
    "\n",
    "async def me_third() -> str:\n",
    "    await asyncio.sleep(1)\n",
    "\n",
    "    return \"And finally me!\"\n",
    "\n",
    "async def main():\n",
    "    start = time.perf_counter()\n",
    "\n",
    "    # Init all coroutines\n",
    "    first_coroutine = me_first()\n",
    "    second_coroutine = me_second()\n",
    "    third_coroutine = me_third()\n",
    "    \n",
    "    # Schedule all coroutines to run concurrently and wait on all to return\n",
    "\n",
    "    result = await asyncio.gather(*[first_coroutine, second_coroutine, third_coroutine])\n",
    "\n",
    "    end = time.perf_counter()\n",
    "\n",
    "    print(f\"It took {end - start} seconds to complete all operations\\n\")\n",
    "    \n",
    "    print(result)\n",
    "\n",
    "\n",
    "await main()"
   ]
  },
  {
   "cell_type": "code",
   "execution_count": null,
   "metadata": {},
   "outputs": [],
   "source": []
  }
 ]
}