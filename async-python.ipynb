{
 "metadata": {
  "language_info": {
   "codemirror_mode": {
    "name": "ipython",
    "version": 3
   },
   "file_extension": ".py",
   "mimetype": "text/x-python",
   "name": "python",
   "nbconvert_exporter": "python",
   "pygments_lexer": "ipython3",
   "version": "3.9.1-final"
  },
  "orig_nbformat": 2,
  "kernelspec": {
   "name": "python3",
   "display_name": "Python 3.9.1 64-bit",
   "metadata": {
    "interpreter": {
     "hash": "aee8b7b246df8f9039afb4144a1f6fd8d2ca17a180786b69acc140d282b71a49"
    }
   }
  }
 },
 "nbformat": 4,
 "nbformat_minor": 2,
 "cells": [
  {
   "cell_type": "code",
   "execution_count": 2,
   "metadata": {},
   "outputs": [
    {
     "output_type": "stream",
     "name": "stdout",
     "text": [
      "<coroutine object something_async at 0x10800d940>\n['__await__',\n '__class__',\n '__del__',\n '__delattr__',\n '__dir__',\n '__doc__',\n '__eq__',\n '__format__',\n '__ge__',\n '__getattribute__',\n '__gt__',\n '__hash__',\n '__init__',\n '__init_subclass__',\n '__le__',\n '__lt__',\n '__name__',\n '__ne__',\n '__new__',\n '__qualname__',\n '__reduce__',\n '__reduce_ex__',\n '__repr__',\n '__setattr__',\n '__sizeof__',\n '__str__',\n '__subclasshook__',\n 'close',\n 'cr_await',\n 'cr_code',\n 'cr_frame',\n 'cr_origin',\n 'cr_running',\n 'send',\n 'throw']\n"
     ]
    }
   ],
   "source": [
    "from pprint import pprint\n",
    "\n",
    "async def something_async() -> str:\n",
    "    return \"I'm not really async!\"\n",
    "\n",
    "def main():\n",
    "    coroutine = something_async()\n",
    "    \n",
    "    print(f\"{coroutine}\\n\")\n",
    "    pprint(dir(coroutine))\n",
    "\n",
    "main()"
   ]
  },
  {
   "cell_type": "code",
   "execution_count": 3,
   "metadata": {},
   "outputs": [
    {
     "output_type": "stream",
     "name": "stdout",
     "text": [
      "<coroutine object something_async at 0x10800dc40>\n"
     ]
    }
   ],
   "source": [
    "import asyncio\n",
    "\n",
    "async def something_async() -> str:\n",
    "    # Wait 3 seconds\n",
    "    asyncio.sleep(3)\n",
    "\n",
    "    return \"I'm async (sortof) now!\"\n",
    "\n",
    "def main():\n",
    "    result = something_async()\n",
    "    \n",
    "    print(result)\n",
    "\n",
    "main()"
   ]
  },
  {
   "cell_type": "code",
   "execution_count": 9,
   "metadata": {},
   "outputs": [
    {
     "output_type": "stream",
     "name": "stdout",
     "text": [
      "Now we're cooking with fire!\n"
     ]
    }
   ],
   "source": [
    "import asyncio\n",
    "\n",
    "async def something_async() -> str:\n",
    "    # Wait 3 seconds\n",
    "    await asyncio.sleep(3)\n",
    "\n",
    "    return \"Now we're cooking with fire!\"\n",
    "\n",
    "async def main():\n",
    "    result = await something_async()\n",
    "    \n",
    "    print(result)\n",
    "\n",
    "# Jupiter Notebook is using a newer version of Python where we don't need asyncio.run, and can just await directly\n",
    "await main()"
   ]
  },
  {
   "cell_type": "code",
   "execution_count": null,
   "metadata": {},
   "outputs": [],
   "source": []
  }
 ]
}